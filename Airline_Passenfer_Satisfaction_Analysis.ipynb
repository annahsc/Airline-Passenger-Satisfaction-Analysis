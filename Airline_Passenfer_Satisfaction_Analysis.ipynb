{
 "cells": [
  {
   "cell_type": "markdown",
   "id": "ff61d8f7",
   "metadata": {},
   "source": [
    "# Airline Passenger Satisfaction"
   ]
  },
  {
   "cell_type": "markdown",
   "id": "047c367e",
   "metadata": {},
   "source": [
    "Data Source : https://www.kaggle.com/datasets/teejmahal20/airline-passenger-satisfaction\n",
    "\n",
    "This dataset contains an US airline passenger satisfaction survey. There are 24 columns and 129,880 rows in the data set.The aim of this portfolio is to train models to predict the two levels of satisfaction with the airline the passenger belongs to.\n",
    "\n",
    "The header of the csv file is as follow:\n",
    "\n",
    "no | id | Gender | Customer Type | Age | Type of Travel | Class | Flight Distance | Inflight wifi service | Departure/Arrival time convenient | Ease of Online booking | Gate location | Food and drink | Online boarding | Seat comfort | Inflight entertainment | On-board service | Leg room service | Baggage handling | Checkin service | Inflight service | Cleanliness | Departure Delay in Minutes | Arrival Delay in Minutes | satisfaction\n",
    "\n",
    "\n",
    "The goal of this data science portfolio is to analyze airline passenger satisfaction using a dataset that includes travel experiences and satisfaction levels. Patterns of service usage across different airline products and understand their impact on satisfaction will be explored. Additionally, satisfaction levels based on travel type, class, and service ratings will be prdicted. By employing machine learning algorithms and feature engineering, models that accurately predict passenger satisfaction will be trained.\n",
    "\n",
    "And below are the steps:  \n",
    "\n",
    "1) Explore the data\n",
    "2) Clean The Data and replacing Missing Value\n",
    "3) Plot and analyse the dataset and identify any outliers\n",
    "4) Study Correlation\n",
    "5) Split and Train Data Set with logistic Regression\n",
    "6) Use RFE to find most correlated features for regression\n",
    "7) Train Data Set with KNN Model\n",
    "8) Tune the hyper-parameter K in KNN\n",
    "9) Visualize, Compare and Analyze Model Result"
   ]
  },
  {
   "cell_type": "markdown",
   "id": "7196e04d",
   "metadata": {},
   "source": [
    "# 1. Explore data Set"
   ]
  },
  {
   "cell_type": "code",
   "execution_count": 2,
   "id": "212b73d6",
   "metadata": {},
   "outputs": [],
   "source": [
    "# import libraries\n",
    "import pandas as pd\n",
    "import numpy as np"
   ]
  },
  {
   "cell_type": "code",
   "execution_count": 3,
   "id": "0e21077b",
   "metadata": {},
   "outputs": [],
   "source": [
    "df = pd.read_csv('airline passenger dataset.csv')"
   ]
  },
  {
   "cell_type": "code",
   "execution_count": 4,
   "id": "07f8cfe8",
   "metadata": {},
   "outputs": [
    {
     "data": {
      "text/plain": [
       "id                                     int64\n",
       "Gender                                object\n",
       "Customer Type                         object\n",
       "Age                                    int64\n",
       "Type of Travel                        object\n",
       "Class                                 object\n",
       "Flight Distance                        int64\n",
       "Inflight wifi service                  int64\n",
       "Departure/Arrival time convenient      int64\n",
       "Ease of Online booking                 int64\n",
       "Gate location                          int64\n",
       "Food and drink                         int64\n",
       "Online boarding                        int64\n",
       "Seat comfort                           int64\n",
       "Inflight entertainment                 int64\n",
       "On-board service                       int64\n",
       "Leg room service                       int64\n",
       "Baggage handling                       int64\n",
       "Checkin service                        int64\n",
       "Inflight service                       int64\n",
       "Cleanliness                            int64\n",
       "Departure Delay in Minutes             int64\n",
       "Arrival Delay in Minutes             float64\n",
       "satisfaction                          object\n",
       "dtype: object"
      ]
     },
     "execution_count": 4,
     "metadata": {},
     "output_type": "execute_result"
    }
   ],
   "source": [
    "df.dtypes"
   ]
  },
  {
   "cell_type": "code",
   "execution_count": 5,
   "id": "3f05620b",
   "metadata": {},
   "outputs": [
    {
     "data": {
      "text/plain": [
       "(129880, 24)"
      ]
     },
     "execution_count": 5,
     "metadata": {},
     "output_type": "execute_result"
    }
   ],
   "source": [
    "df.shape"
   ]
  },
  {
   "cell_type": "code",
   "execution_count": 6,
   "id": "02643513",
   "metadata": {},
   "outputs": [
    {
     "data": {
      "text/html": [
       "<div>\n",
       "<style scoped>\n",
       "    .dataframe tbody tr th:only-of-type {\n",
       "        vertical-align: middle;\n",
       "    }\n",
       "\n",
       "    .dataframe tbody tr th {\n",
       "        vertical-align: top;\n",
       "    }\n",
       "\n",
       "    .dataframe thead th {\n",
       "        text-align: right;\n",
       "    }\n",
       "</style>\n",
       "<table border=\"1\" class=\"dataframe\">\n",
       "  <thead>\n",
       "    <tr style=\"text-align: right;\">\n",
       "      <th></th>\n",
       "      <th>id</th>\n",
       "      <th>Gender</th>\n",
       "      <th>Customer Type</th>\n",
       "      <th>Age</th>\n",
       "      <th>Type of Travel</th>\n",
       "      <th>Class</th>\n",
       "      <th>Flight Distance</th>\n",
       "      <th>Inflight wifi service</th>\n",
       "      <th>Departure/Arrival time convenient</th>\n",
       "      <th>Ease of Online booking</th>\n",
       "      <th>...</th>\n",
       "      <th>Inflight entertainment</th>\n",
       "      <th>On-board service</th>\n",
       "      <th>Leg room service</th>\n",
       "      <th>Baggage handling</th>\n",
       "      <th>Checkin service</th>\n",
       "      <th>Inflight service</th>\n",
       "      <th>Cleanliness</th>\n",
       "      <th>Departure Delay in Minutes</th>\n",
       "      <th>Arrival Delay in Minutes</th>\n",
       "      <th>satisfaction</th>\n",
       "    </tr>\n",
       "  </thead>\n",
       "  <tbody>\n",
       "    <tr>\n",
       "      <th>129875</th>\n",
       "      <td>94171</td>\n",
       "      <td>Female</td>\n",
       "      <td>disloyal Customer</td>\n",
       "      <td>23</td>\n",
       "      <td>Business travel</td>\n",
       "      <td>Eco</td>\n",
       "      <td>192</td>\n",
       "      <td>2</td>\n",
       "      <td>1</td>\n",
       "      <td>2</td>\n",
       "      <td>...</td>\n",
       "      <td>2</td>\n",
       "      <td>3</td>\n",
       "      <td>1</td>\n",
       "      <td>4</td>\n",
       "      <td>2</td>\n",
       "      <td>3</td>\n",
       "      <td>2</td>\n",
       "      <td>3</td>\n",
       "      <td>0.0</td>\n",
       "      <td>neutral or dissatisfied</td>\n",
       "    </tr>\n",
       "    <tr>\n",
       "      <th>129876</th>\n",
       "      <td>73097</td>\n",
       "      <td>Male</td>\n",
       "      <td>Loyal Customer</td>\n",
       "      <td>49</td>\n",
       "      <td>Business travel</td>\n",
       "      <td>Business</td>\n",
       "      <td>2347</td>\n",
       "      <td>4</td>\n",
       "      <td>4</td>\n",
       "      <td>4</td>\n",
       "      <td>...</td>\n",
       "      <td>5</td>\n",
       "      <td>5</td>\n",
       "      <td>5</td>\n",
       "      <td>5</td>\n",
       "      <td>5</td>\n",
       "      <td>5</td>\n",
       "      <td>4</td>\n",
       "      <td>0</td>\n",
       "      <td>0.0</td>\n",
       "      <td>satisfied</td>\n",
       "    </tr>\n",
       "    <tr>\n",
       "      <th>129877</th>\n",
       "      <td>68825</td>\n",
       "      <td>Male</td>\n",
       "      <td>disloyal Customer</td>\n",
       "      <td>30</td>\n",
       "      <td>Business travel</td>\n",
       "      <td>Business</td>\n",
       "      <td>1995</td>\n",
       "      <td>1</td>\n",
       "      <td>1</td>\n",
       "      <td>1</td>\n",
       "      <td>...</td>\n",
       "      <td>4</td>\n",
       "      <td>3</td>\n",
       "      <td>2</td>\n",
       "      <td>4</td>\n",
       "      <td>5</td>\n",
       "      <td>5</td>\n",
       "      <td>4</td>\n",
       "      <td>7</td>\n",
       "      <td>14.0</td>\n",
       "      <td>neutral or dissatisfied</td>\n",
       "    </tr>\n",
       "    <tr>\n",
       "      <th>129878</th>\n",
       "      <td>54173</td>\n",
       "      <td>Female</td>\n",
       "      <td>disloyal Customer</td>\n",
       "      <td>22</td>\n",
       "      <td>Business travel</td>\n",
       "      <td>Eco</td>\n",
       "      <td>1000</td>\n",
       "      <td>1</td>\n",
       "      <td>1</td>\n",
       "      <td>1</td>\n",
       "      <td>...</td>\n",
       "      <td>1</td>\n",
       "      <td>4</td>\n",
       "      <td>5</td>\n",
       "      <td>1</td>\n",
       "      <td>5</td>\n",
       "      <td>4</td>\n",
       "      <td>1</td>\n",
       "      <td>0</td>\n",
       "      <td>0.0</td>\n",
       "      <td>neutral or dissatisfied</td>\n",
       "    </tr>\n",
       "    <tr>\n",
       "      <th>129879</th>\n",
       "      <td>62567</td>\n",
       "      <td>Male</td>\n",
       "      <td>Loyal Customer</td>\n",
       "      <td>27</td>\n",
       "      <td>Business travel</td>\n",
       "      <td>Business</td>\n",
       "      <td>1723</td>\n",
       "      <td>1</td>\n",
       "      <td>3</td>\n",
       "      <td>3</td>\n",
       "      <td>...</td>\n",
       "      <td>1</td>\n",
       "      <td>1</td>\n",
       "      <td>1</td>\n",
       "      <td>4</td>\n",
       "      <td>4</td>\n",
       "      <td>3</td>\n",
       "      <td>1</td>\n",
       "      <td>0</td>\n",
       "      <td>0.0</td>\n",
       "      <td>neutral or dissatisfied</td>\n",
       "    </tr>\n",
       "  </tbody>\n",
       "</table>\n",
       "<p>5 rows × 24 columns</p>\n",
       "</div>"
      ],
      "text/plain": [
       "           id  Gender      Customer Type  Age   Type of Travel     Class  \\\n",
       "129875  94171  Female  disloyal Customer   23  Business travel       Eco   \n",
       "129876  73097    Male     Loyal Customer   49  Business travel  Business   \n",
       "129877  68825    Male  disloyal Customer   30  Business travel  Business   \n",
       "129878  54173  Female  disloyal Customer   22  Business travel       Eco   \n",
       "129879  62567    Male     Loyal Customer   27  Business travel  Business   \n",
       "\n",
       "        Flight Distance  Inflight wifi service  \\\n",
       "129875              192                      2   \n",
       "129876             2347                      4   \n",
       "129877             1995                      1   \n",
       "129878             1000                      1   \n",
       "129879             1723                      1   \n",
       "\n",
       "        Departure/Arrival time convenient  Ease of Online booking  ...  \\\n",
       "129875                                  1                       2  ...   \n",
       "129876                                  4                       4  ...   \n",
       "129877                                  1                       1  ...   \n",
       "129878                                  1                       1  ...   \n",
       "129879                                  3                       3  ...   \n",
       "\n",
       "        Inflight entertainment  On-board service  Leg room service  \\\n",
       "129875                       2                 3                 1   \n",
       "129876                       5                 5                 5   \n",
       "129877                       4                 3                 2   \n",
       "129878                       1                 4                 5   \n",
       "129879                       1                 1                 1   \n",
       "\n",
       "        Baggage handling  Checkin service  Inflight service  Cleanliness  \\\n",
       "129875                 4                2                 3            2   \n",
       "129876                 5                5                 5            4   \n",
       "129877                 4                5                 5            4   \n",
       "129878                 1                5                 4            1   \n",
       "129879                 4                4                 3            1   \n",
       "\n",
       "        Departure Delay in Minutes  Arrival Delay in Minutes  \\\n",
       "129875                           3                       0.0   \n",
       "129876                           0                       0.0   \n",
       "129877                           7                      14.0   \n",
       "129878                           0                       0.0   \n",
       "129879                           0                       0.0   \n",
       "\n",
       "                   satisfaction  \n",
       "129875  neutral or dissatisfied  \n",
       "129876                satisfied  \n",
       "129877  neutral or dissatisfied  \n",
       "129878  neutral or dissatisfied  \n",
       "129879  neutral or dissatisfied  \n",
       "\n",
       "[5 rows x 24 columns]"
      ]
     },
     "execution_count": 6,
     "metadata": {},
     "output_type": "execute_result"
    }
   ],
   "source": [
    "df.tail()"
   ]
  },
  {
   "cell_type": "code",
   "execution_count": 7,
   "id": "19f92226",
   "metadata": {},
   "outputs": [
    {
     "name": "stderr",
     "output_type": "stream",
     "text": [
      "/var/folders/jr/gyh_3y_940lb31np3fnlsd0c0000gn/T/ipykernel_95965/2741190021.py:1: FutureWarning: The default value of numeric_only in DataFrame.mean is deprecated. In a future version, it will default to False. In addition, specifying 'numeric_only=None' is deprecated. Select only valid columns or specify the value of numeric_only to silence this warning.\n",
      "  df.mean()\n"
     ]
    },
    {
     "data": {
      "text/plain": [
       "id                                   64940.500000\n",
       "Age                                     39.427957\n",
       "Flight Distance                       1190.316392\n",
       "Inflight wifi service                    2.728696\n",
       "Departure/Arrival time convenient        3.057599\n",
       "Ease of Online booking                   2.756876\n",
       "Gate location                            2.976925\n",
       "Food and drink                           3.204774\n",
       "Online boarding                          3.252633\n",
       "Seat comfort                             3.441361\n",
       "Inflight entertainment                   3.358077\n",
       "On-board service                         3.383023\n",
       "Leg room service                         3.350878\n",
       "Baggage handling                         3.632114\n",
       "Checkin service                          3.306267\n",
       "Inflight service                         3.642193\n",
       "Cleanliness                              3.286326\n",
       "Departure Delay in Minutes              14.713713\n",
       "Arrival Delay in Minutes                15.091129\n",
       "dtype: float64"
      ]
     },
     "execution_count": 7,
     "metadata": {},
     "output_type": "execute_result"
    }
   ],
   "source": [
    "df.mean()  "
   ]
  },
  {
   "cell_type": "markdown",
   "id": "b9b45bc2",
   "metadata": {},
   "source": [
    "# 2.Clean The Data and replacing Missing Value"
   ]
  },
  {
   "cell_type": "code",
   "execution_count": 8,
   "id": "02230d8b",
   "metadata": {},
   "outputs": [
    {
     "data": {
      "text/plain": [
       "id                                     0\n",
       "Gender                                 0\n",
       "Customer Type                          0\n",
       "Age                                    0\n",
       "Type of Travel                         0\n",
       "Class                                  0\n",
       "Flight Distance                        0\n",
       "Inflight wifi service                  0\n",
       "Departure/Arrival time convenient      0\n",
       "Ease of Online booking                 0\n",
       "Gate location                          0\n",
       "Food and drink                         0\n",
       "Online boarding                        0\n",
       "Seat comfort                           0\n",
       "Inflight entertainment                 0\n",
       "On-board service                       0\n",
       "Leg room service                       0\n",
       "Baggage handling                       0\n",
       "Checkin service                        0\n",
       "Inflight service                       0\n",
       "Cleanliness                            0\n",
       "Departure Delay in Minutes             0\n",
       "Arrival Delay in Minutes             393\n",
       "satisfaction                           0\n",
       "dtype: int64"
      ]
     },
     "execution_count": 8,
     "metadata": {},
     "output_type": "execute_result"
    }
   ],
   "source": [
    "# To find columns that is with missing value\n",
    "df.isnull().sum()"
   ]
  },
  {
   "cell_type": "code",
   "execution_count": 9,
   "id": "a5dfbce8",
   "metadata": {},
   "outputs": [
    {
     "data": {
      "text/plain": [
       "id                                   0\n",
       "Gender                               0\n",
       "Customer Type                        0\n",
       "Age                                  0\n",
       "Type of Travel                       0\n",
       "Class                                0\n",
       "Flight Distance                      0\n",
       "Inflight wifi service                0\n",
       "Departure/Arrival time convenient    0\n",
       "Ease of Online booking               0\n",
       "Gate location                        0\n",
       "Food and drink                       0\n",
       "Online boarding                      0\n",
       "Seat comfort                         0\n",
       "Inflight entertainment               0\n",
       "On-board service                     0\n",
       "Leg room service                     0\n",
       "Baggage handling                     0\n",
       "Checkin service                      0\n",
       "Inflight service                     0\n",
       "Cleanliness                          0\n",
       "Departure Delay in Minutes           0\n",
       "Arrival Delay in Minutes             0\n",
       "satisfaction                         0\n",
       "dtype: int64"
      ]
     },
     "execution_count": 9,
     "metadata": {},
     "output_type": "execute_result"
    }
   ],
   "source": [
    "# To fill missing value of Arrival Delay in Minutes \n",
    "df[\"Arrival Delay in Minutes\"] = df[\"Arrival Delay in Minutes\"].fillna(0)\n",
    "df.isnull().sum()"
   ]
  },
  {
   "cell_type": "markdown",
   "id": "8b619c80",
   "metadata": {},
   "source": [
    "# 3. Plot and analyse the dataset and identify any outliers"
   ]
  },
  {
   "cell_type": "code",
   "execution_count": 15,
   "id": "3f4496c3",
   "metadata": {},
   "outputs": [
    {
     "data": {
      "image/png": "[encoded data removed]",
      "text/plain": [
       "<Figure size 1500x500 with 3 Axes>"
      ]
     },
     "metadata": {},
     "output_type": "display_data"
    }
   ],
   "source": [
    "import seaborn as sns \n",
    "import matplotlib.pyplot as plt\n",
    "\n",
    "fig, axes = plt.subplots(1, 3, figsize=(15, 5), sharey=True)\n",
    "\n",
    "# Plotting box plots on the respective axes\n",
    "sns.boxplot(x='Gender', y='Age', data=df, ax=axes[0])\n",
    "axes[0].set_title('Age Distribution by Gender')\n",
    "axes[0].set_xlabel('Gender')\n",
    "\n",
    "sns.boxplot(x='Customer Type', y='Age', data=df, ax=axes[1])\n",
    "axes[1].set_title('Age Distribution by Customer Type')\n",
    "axes[1].set_xlabel('Customer Type')\n",
    "\n",
    "sns.boxplot(x='Class', y='Age', data=df, ax=axes[2])\n",
    "axes[2].set_title('Age Distribution by Class')\n",
    "axes[2].set_xlabel('Class')\n",
    "\n",
    "plt.tight_layout()\n",
    "plt.show()"
   ]
  },
  {
   "cell_type": "code",
   "execution_count": 16,
   "id": "c7b432bf",
   "metadata": {},
   "outputs": [
    {
     "data": {
      "image/png": "[encoded data removed]",
      "text/plain": [
       "<Figure size 640x480 with 1 Axes>"
      ]
     },
     "metadata": {},
     "output_type": "display_data"
    }
   ],
   "source": [
    "df_selected = df.iloc[:, 7:21] \n",
    "\n",
    "sns.boxplot(data=df_selected,orient=\"h\")\n",
    "plt.title(\"Box plot for Selected Service Scores\")\n",
    "plt.show()"
   ]
  },
  {
   "cell_type": "code",
   "execution_count": 24,
   "id": "77882c01",
   "metadata": {},
   "outputs": [
    {
     "data": {
      "image/png": "[encoded data removed]",
      "text/plain": [
       "<Figure size 640x480 with 1 Axes>"
      ]
     },
     "metadata": {},
     "output_type": "display_data"
    }
   ],
   "source": [
    "mean_values = df_selected.mean()\n",
    "sns.barplot(x=mean_values, y=mean_values.index, orient='h')\n",
    "\n",
    "plt.title('Mean Service Scores')\n",
    "\n",
    "# Display the plot\n",
    "plt.show()"
   ]
  },
  {
   "cell_type": "markdown",
   "id": "462132ff",
   "metadata": {},
   "source": [
    "The median age of passengers is 40, with the majority being between the ages of 30 and 50, suggesting that the airline has a significant number of middle-aged travelers. Loyalty patterns show that loyal consumers are mostly between the ages of 30 and 50, while disloyal customers are mostly between the ages of 25 and 35. The class variable shows a gradual increase in median age from economy to economy plus and business class.\n",
    "\n",
    "Passengers are  satisfied with baggage handling, in-flight services, and seat comfort, as seen by high median scores of 4. However,from the barchart,we can see the average rating for in-flight Wi-Fi service and convenience of online booking is the lowest,implying these are areas where there is room for improvement in order to satisfy client expectations and increase satisfaction levels.\n"
   ]
  },
  {
   "cell_type": "markdown",
   "id": "7cd8e0fe",
   "metadata": {},
   "source": [
    "Despite there are outliers in the box plot regarding the service scores and the age distribution of disloyal customers, I have made a decision not to remove them. \n",
    "These outliers represent genuine observations that are crucial for capturing the underlying phenomenon accurately.By embracing these values, I aim to enhance the validity and richness of the analysis and provide a more comprehensive  perspective on the phenomenon."
   ]
  },
  {
   "cell_type": "markdown",
   "id": "47f201a5",
   "metadata": {},
   "source": [
    "# 4.Studying Correlation"
   ]
  },
  {
   "cell_type": "code",
   "execution_count": null,
   "id": "7b95876d",
   "metadata": {},
   "outputs": [],
   "source": [
    "#Convert object features into digit features by using an encoder\n",
    "from sklearn.preprocessing import OrdinalEncoder\n",
    "columns_to_encode = ['Gender', 'Customer Type', 'Type of Travel','Class','satisfaction']\n",
    "enc = OrdinalEncoder()\n",
    "df[columns_to_encode] = enc.fit_transform(df[columns_to_encode])\n",
    "\n",
    "df.head()"
   ]
  },
  {
   "cell_type": "code",
   "execution_count": 250,
   "id": "67d1daec",
   "metadata": {},
   "outputs": [
    {
     "data": {
      "text/plain": [
       "Type of Travel                      -0.450\n",
       "Class                               -0.448\n",
       "Customer Type                       -0.186\n",
       "Arrival Delay in Minutes            -0.058\n",
       "Departure/Arrival time convenient   -0.054\n",
       "Departure Delay in Minutes          -0.051\n",
       "Gate location                       -0.003\n",
       "Gender                               0.011\n",
       "id                                   0.013\n",
       "Age                                  0.134\n",
       "Ease of Online booking               0.169\n",
       "Food and drink                       0.211\n",
       "Checkin service                      0.237\n",
       "Inflight service                     0.245\n",
       "Baggage handling                     0.249\n",
       "Inflight wifi service                0.283\n",
       "Flight Distance                      0.298\n",
       "Cleanliness                          0.307\n",
       "Leg room service                     0.312\n",
       "On-board service                     0.322\n",
       "Seat comfort                         0.349\n",
       "Inflight entertainment               0.398\n",
       "Online boarding                      0.502\n",
       "satisfaction                         1.000\n",
       "Name: satisfaction, dtype: float64"
      ]
     },
     "execution_count": 250,
     "metadata": {},
     "output_type": "execute_result"
    }
   ],
   "source": [
    "corr_df = df.corr().round(3)\n",
    "satisfaction_correlation = corr_df['satisfaction']\n",
    "\n",
    "satisfaction_correlation.sort_values(ascending=True)"
   ]
  },
  {
   "cell_type": "code",
   "execution_count": 251,
   "id": "0b6625e6",
   "metadata": {},
   "outputs": [
    {
     "name": "stdout",
     "output_type": "stream",
     "text": [
      "satisfaction              1.000\n",
      "Online boarding           0.502\n",
      "Type of Travel           -0.450\n",
      "Class                    -0.448\n",
      "Inflight entertainment    0.398\n",
      "Seat comfort              0.349\n",
      "On-board service          0.322\n",
      "Leg room service          0.312\n",
      "Cleanliness               0.307\n",
      "Flight Distance           0.298\n",
      "Inflight wifi service     0.283\n",
      "Name: satisfaction, dtype: float64\n"
     ]
    }
   ],
   "source": [
    "# Get the absolute correlations, sort them, and pick top 10\n",
    "top_10_abs_correlated = satisfaction_correlation.abs().sort_values(ascending=False).head(11)\n",
    "\n",
    "# get the original correlation values of these top 10\n",
    "top_10_features = satisfaction_correlation[top_10_abs_correlated.index]\n",
    "\n",
    "print(top_10_features)"
   ]
  },
  {
   "cell_type": "markdown",
   "id": "cc38e293",
   "metadata": {},
   "source": [
    "The top 10 most realted features are choosen as variable to train the dataset."
   ]
  },
  {
   "cell_type": "markdown",
   "id": "af3833c1",
   "metadata": {},
   "source": [
    "# 5.Split and Train Data Set with Logistic Regression"
   ]
  },
  {
   "cell_type": "markdown",
   "id": "632b1174",
   "metadata": {},
   "source": [
    "As the satisfaction option is either 'satisfied' or 'neutral or dissatisfied, logistic regression is used."
   ]
  },
  {
   "cell_type": "code",
   "execution_count": 252,
   "id": "1e43e796",
   "metadata": {},
   "outputs": [
    {
     "name": "stdout",
     "output_type": "stream",
     "text": [
      "(25976, 24)\n",
      "(103904, 24)\n"
     ]
    }
   ],
   "source": [
    "from sklearn.model_selection import train_test_split\n",
    "from sklearn.linear_model import LogisticRegression\n",
    "\n",
    "#Split data set into training and testing sets\n",
    "train,test =train_test_split(df,test_size=0.8,random_state=42)\n",
    "\n",
    "#Shape of train and test data frame\n",
    "print(train.shape)\n",
    "print(test.shape)"
   ]
  },
  {
   "cell_type": "code",
   "execution_count": 253,
   "id": "ee6fe40c",
   "metadata": {},
   "outputs": [
    {
     "name": "stdout",
     "output_type": "stream",
     "text": [
      "X_train1 shape (25976, 10)\n",
      "y_train1 shape (25976,)\n",
      "X_test1 shape (103904, 10)\n",
      "y_test1 shape (103904,)\n"
     ]
    }
   ],
   "source": [
    "# Select x and y variable\n",
    "X_train1 = train[['Online boarding', 'Type of Travel', 'Class', 'Inflight entertainment', 'Seat comfort', 'On-board service', 'Leg room service', 'Cleanliness','Flight Distance','Inflight wifi service']]\n",
    "y_train1 = train['satisfaction']\n",
    "\n",
    "X_test1 = test[['Online boarding', 'Type of Travel', 'Class', 'Inflight entertainment', 'Seat comfort', 'On-board service', 'Leg room service', 'Cleanliness','Flight Distance','Inflight wifi service']]\n",
    "y_test1 = test['satisfaction']\n",
    "\n",
    "print('X_train1 shape', X_train1.shape)\n",
    "print('y_train1 shape', y_train1.shape)\n",
    "print('X_test1 shape', X_test1.shape)\n",
    "print('y_test1 shape', y_test1.shape)"
   ]
  },
  {
   "cell_type": "code",
   "execution_count": 254,
   "id": "df528e18",
   "metadata": {},
   "outputs": [],
   "source": [
    "#build logistic regression model\n",
    "logreg1 = LogisticRegression().fit(X_train1, y_train1)"
   ]
  },
  {
   "cell_type": "code",
   "execution_count": 255,
   "id": "d964b809",
   "metadata": {},
   "outputs": [],
   "source": [
    "# Do predictions on test set\n",
    "y_pred_test1=logreg1.predict(X_test1)"
   ]
  },
  {
   "cell_type": "code",
   "execution_count": 256,
   "id": "c2707402",
   "metadata": {},
   "outputs": [
    {
     "name": "stdout",
     "output_type": "stream",
     "text": [
      "Accuracy on test set: 0.8199876809362489\n"
     ]
    }
   ],
   "source": [
    "#find accuracy score\n",
    "from sklearn.metrics import accuracy_score\n",
    "print('Accuracy on test set:',accuracy_score(y_test1,y_pred_test1))"
   ]
  },
  {
   "cell_type": "markdown",
   "id": "b3ba852e",
   "metadata": {},
   "source": [
    "The accuracy score of the logistic regression model is 0.82. RFE is used to try to find the most related features."
   ]
  },
  {
   "cell_type": "markdown",
   "id": "c259b10b",
   "metadata": {},
   "source": [
    "# 6. Use RFE to find most correlated features"
   ]
  },
  {
   "cell_type": "code",
   "execution_count": 257,
   "id": "00a8680a",
   "metadata": {},
   "outputs": [
    {
     "name": "stdout",
     "output_type": "stream",
     "text": [
      "Features: [ True  True  True  True False  True  True False False False]\n",
      "Feature ranking: [1 1 1 1 4 1 1 2 5 3]\n"
     ]
    }
   ],
   "source": [
    "import warnings\n",
    "warnings.filterwarnings('ignore')\n",
    "\n",
    "from sklearn.feature_selection import RFE\n",
    "\n",
    "selector = RFE(logreg1, n_features_to_select=6)\n",
    "selector = selector.fit(X_train1, y_train1)\n",
    "print('Features:',selector.support_)\n",
    "print('Feature ranking:',selector.ranking_)"
   ]
  },
  {
   "cell_type": "markdown",
   "id": "056842a5",
   "metadata": {},
   "source": [
    "Using RFE, we find the top 6 most related feature and we will use them to train the model."
   ]
  },
  {
   "cell_type": "code",
   "execution_count": 258,
   "id": "032ae8f0",
   "metadata": {},
   "outputs": [
    {
     "name": "stdout",
     "output_type": "stream",
     "text": [
      "X_train2 shape (25976, 6)\n",
      "y_train2 shape (25976,)\n",
      "X_test2 shape (103904, 6)\n",
      "y_test2 shape (103904,)\n"
     ]
    }
   ],
   "source": [
    "# Select x and y variable\n",
    "X_train2 = train[['Online boarding', 'Type of Travel', 'Class', 'Inflight entertainment', 'On-board service', 'Leg room service']]\n",
    "y_train2 = train['satisfaction']\n",
    "\n",
    "X_test2 = test[['Online boarding', 'Type of Travel', 'Class', 'Inflight entertainment',  'On-board service', 'Leg room service', ]]\n",
    "y_test2 = test['satisfaction']\n",
    "\n",
    "print('X_train2 shape', X_train2.shape)\n",
    "print('y_train2 shape', y_train2.shape)\n",
    "print('X_test2 shape', X_test2.shape)\n",
    "print('y_test2 shape', y_test2.shape)"
   ]
  },
  {
   "cell_type": "code",
   "execution_count": 259,
   "id": "f2d07739",
   "metadata": {},
   "outputs": [
    {
     "name": "stdout",
     "output_type": "stream",
     "text": [
      "Accuracy on test set: 0.8523059747459193\n"
     ]
    }
   ],
   "source": [
    "logreg2 = LogisticRegression().fit(X_train2, y_train2)\n",
    "y_pred_test2=logreg2.predict(X_test2)\n",
    "print('Accuracy on test set:',accuracy_score(y_test2,y_pred_test2))"
   ]
  },
  {
   "cell_type": "markdown",
   "id": "f07e021a",
   "metadata": {},
   "source": [
    "Accuracy score is improved by 3.23% by selecting the 6 most related feature using RFE."
   ]
  },
  {
   "cell_type": "markdown",
   "id": "1ad39ecc",
   "metadata": {},
   "source": [
    "# 7. Train With KNN Model"
   ]
  },
  {
   "cell_type": "code",
   "execution_count": null,
   "id": "01a8e1b7",
   "metadata": {},
   "outputs": [],
   "source": [
    "#Train the model with KNN with k for 3\n",
    "from sklearn.neighbors import KNeighborsClassifier\n",
    "\n",
    "neigh = KNeighborsClassifier(n_neighbors=4)\n",
    "neigh.fit(X_train2,y_train2)"
   ]
  },
  {
   "cell_type": "code",
   "execution_count": null,
   "id": "99f8cc69",
   "metadata": {},
   "outputs": [],
   "source": [
    "y_predict_knn=neigh.predict(X_test2)\n",
    "print('Accuracy with 3 as K-value:',accuracy_score(y_test2,y_pred_test2))"
   ]
  },
  {
   "cell_type": "markdown",
   "id": "81cb6a2f",
   "metadata": {},
   "source": [
    "The accuracy value using KNN model is 0.852 with the k value as 4. Now. I would like to find the best K-value."
   ]
  },
  {
   "cell_type": "markdown",
   "id": "f953ecf2",
   "metadata": {},
   "source": [
    "# 8. Tune the hyper-parameter K in KNN"
   ]
  },
  {
   "cell_type": "code",
   "execution_count": null,
   "id": "131527a0",
   "metadata": {},
   "outputs": [],
   "source": [
    "#To find the best K-value\n",
    "\n",
    "from sklearn.model_selection import GridSearchCV\n",
    "\n",
    "parameters={'n_neighbors':range(1,50)}\n",
    "clf = GridSearchCV(neigh, parameters)\n",
    "clf.fit(X_train2, y_train2)"
   ]
  },
  {
   "cell_type": "code",
   "execution_count": null,
   "id": "ab2ec284",
   "metadata": {},
   "outputs": [],
   "source": [
    "print('Best K value:',clf.best_params_)"
   ]
  },
  {
   "cell_type": "code",
   "execution_count": null,
   "id": "c8061df0",
   "metadata": {},
   "outputs": [],
   "source": [
    "#to find the accuracy score with optimal K value\n",
    "print('Best accuracy score with optimal K value: ',clf.best_score_)"
   ]
  },
  {
   "cell_type": "markdown",
   "id": "a3a37921",
   "metadata": {},
   "source": [
    "Best K value is 15 with best Accuracy score of 0.8817."
   ]
  },
  {
   "cell_type": "markdown",
   "id": "a31cb1b7",
   "metadata": {},
   "source": [
    "# 9. Visualize, Compare and Analyze Model Result"
   ]
  },
  {
   "cell_type": "code",
   "execution_count": 265,
   "id": "5154a1c9",
   "metadata": {},
   "outputs": [],
   "source": [
    "#Create a dataframe to review accuracy score of different models\n",
    "Model_Score = {'Model': ['LR1','LR2', 'KNN1','KNN2'], 'Accuracy Score': [0.820, 0.852, 0.852, 0.882]}\n",
    "Model_Score_df = pd.DataFrame(data=Model_Score)\n"
   ]
  },
  {
   "cell_type": "code",
   "execution_count": 266,
   "id": "642a2baa",
   "metadata": {},
   "outputs": [
    {
     "data": {
      "image/png": "[encoded data removed]",
      "text/plain": [
       "<Figure size 400x400 with 1 Axes>"
      ]
     },
     "metadata": {},
     "output_type": "display_data"
    }
   ],
   "source": [
    "plt.figure(figsize=(4, 4))\n",
    "sns.barplot(x='Model', y='Accuracy Score', data=Model_Score_df)\n",
    "plt.title('Comparison of Accuracy Scores')\n",
    "plt.ylim(0.5, 0.9) \n",
    "plt.show()"
   ]
  },
  {
   "cell_type": "markdown",
   "id": "1a9bd105",
   "metadata": {},
   "source": [
    "Starting with a logistic model, the initial accuracy of was 0.82 .This score rose to 0.852 by removing fewer relevant features, demonstrating the value of feature selection. With a random k-value as KNN model, the accuracy scores remains the same.The last optimization, which involved fine-tuning the KNN algorithm, resulted in the highest accuracy score of 0.882. \n",
    "\n",
    "Starting with a basic model and modifying its features and parameters, each modification improved the model's accuracy and strength.These emphasize the importance of feature selection and parameter tuning in improving the performance of machine learning models for predicting passenger satisfaction. The developed models provide a solid foundation for accurately predicting and understanding passenger satisfaction in the airline industry."
   ]
  },
  {
   "cell_type": "markdown",
   "id": "94157d2f",
   "metadata": {},
   "source": [
    "In this portfolio, I conducted an analysis of the airline passenger dataset. I began by exploring the data and gained understanding of its structure. I also performed data cleaning by replacing missing values in the arrival delay column with zeros. Using data visualization techniques, I analyzed the demographics of the dataset and identified outliers, providing valuable insights into the distribution and potential anomalies within the data.\n",
    "\n",
    "To prepare the dataset for modeling, I encoded categorical variables, enabling their inclusion in subsequent analyses. I also studied the correlation between variables, uncovering relationships and dependencies that contribute to a deeper understanding of the data.\n",
    "\n",
    "For predictive modeling, I trained logistic regression models and  enhanced performance through the application of the KNN algorithm. By fine-tuning the KNN model, I determined the optimal KNN value, achieving the highest accuracy score."
   ]
  }
 ],
 "metadata": {
  "kernelspec": {
   "display_name": "Python 3 (ipykernel)",
   "language": "python",
   "name": "python3"
  },
  "language_info": {
   "codemirror_mode": {
    "name": "ipython",
    "version": 3
   },
   "file_extension": ".py",
   "mimetype": "text/x-python",
   "name": "python",
   "nbconvert_exporter": "python",
   "pygments_lexer": "ipython3",
   "version": "3.11.3"
  }
 },
 "nbformat": 4,
 "nbformat_minor": 5
}
